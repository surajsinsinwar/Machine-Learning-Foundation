{
 "cells": [
  {
   "cell_type": "code",
   "execution_count": 1,
   "metadata": {},
   "outputs": [
    {
     "name": "stdout",
     "output_type": "stream",
     "text": [
      "()\n",
      "(9,)\n",
      "(1, 9)\n"
     ]
    }
   ],
   "source": [
    "import numpy as np\n",
    "a=np.array(10) # scaler\n",
    "x=np.array([1,2,3,4,5,6,7,8,9]) # vector\n",
    "y=np.array([[1,2,3,4,5,6,7,8,9]])\n",
    "print(a.shape)\n",
    "print(x.shape)\n",
    "print(y.shape)"
   ]
  },
  {
   "cell_type": "code",
   "execution_count": 2,
   "metadata": {},
   "outputs": [
    {
     "name": "stdout",
     "output_type": "stream",
     "text": [
      "10\n",
      "70\n",
      "[10 20 30 40 50 60]\n",
      "[60 70 80 90]\n",
      "[10 20 30 40 50]\n",
      "[10 30 50 70]\n",
      "[10 20 30 40 50 60 70 80 90]\n",
      "[90 80 70 60 50 40 30 20 10]\n"
     ]
    }
   ],
   "source": [
    "# Array slicing/operation is same as python\n",
    "a=np.array([10,20,30,40,50,60,70,80,90])\n",
    "print(a[0]) # 0th index\n",
    "print(a[-3]) #\n",
    "print(a[0:6]) # 0th to 5th index\n",
    "print(a[5:]) # 5th index onward\n",
    "print(a[:5]) #upto 4th index\n",
    "print(a[0:8:2]) # \n",
    "print(a[::]) # Whole array\n",
    "print(a[::-1])# reverse\n"
   ]
  },
  {
   "cell_type": "code",
   "execution_count": 3,
   "metadata": {},
   "outputs": [
    {
     "name": "stdout",
     "output_type": "stream",
     "text": [
      "[[ 1  2  3  4  5]\n",
      " [ 6  7  8  9 10]]\n",
      "9\n",
      "[ 6  7  8  9 10]\n",
      "[4 9]\n",
      "[[3 4]\n",
      " [8 9]]\n"
     ]
    }
   ],
   "source": [
    "x=np.array([[1,2,3,4,5],[6,7,8,9,10]])\n",
    "print(x)\n",
    "print(x[1,3]) #\n",
    "print(x[1,:]) # 1st index row\n",
    "print(x[:,3]) # 3rd index col\n",
    "print(x[0:2,2:4]) #"
   ]
  },
  {
   "cell_type": "code",
   "execution_count": 4,
   "metadata": {},
   "outputs": [
    {
     "name": "stdout",
     "output_type": "stream",
     "text": [
      "0.7124600520129634\n",
      "57\n"
     ]
    }
   ],
   "source": [
    "# operators are same as python\n",
    "# Random number\n",
    "import random\n",
    "x=random.random()\n",
    "print(x)\n",
    "y=random.randint(3,100)\n",
    "print(y) # random int in b/w 3 to 100"
   ]
  },
  {
   "cell_type": "code",
   "execution_count": 5,
   "metadata": {},
   "outputs": [
    {
     "name": "stdout",
     "output_type": "stream",
     "text": [
      "[[0.56752492 0.90953508 0.21399092]\n",
      " [0.58591971 0.63866066 0.93697166]]\n",
      "[95 41 21 63]\n"
     ]
    }
   ],
   "source": [
    "x=np.random.random((2,3)) # shape\n",
    "print(x)\n",
    "y=np.random.randint(3,100,(4,))\n",
    "print(y)"
   ]
  },
  {
   "cell_type": "code",
   "execution_count": 6,
   "metadata": {},
   "outputs": [
    {
     "name": "stdout",
     "output_type": "stream",
     "text": [
      "[[0. 0. 0. 0. 0.]\n",
      " [0. 0. 0. 0. 0.]\n",
      " [0. 0. 0. 0. 0.]\n",
      " [0. 0. 0. 0. 0.]]\n",
      "[[1. 1. 1. 1. 1.]\n",
      " [1. 1. 1. 1. 1.]\n",
      " [1. 1. 1. 1. 1.]\n",
      " [1. 1. 1. 1. 1.]]\n"
     ]
    }
   ],
   "source": [
    "x=np.zeros((4,5))\n",
    "print(x)\n",
    "x=np.ones((4,5))\n",
    "print(x)"
   ]
  },
  {
   "cell_type": "code",
   "execution_count": 7,
   "metadata": {},
   "outputs": [
    {
     "name": "stdout",
     "output_type": "stream",
     "text": [
      "[[7 6 9]\n",
      " [4 8 4]]\n"
     ]
    }
   ],
   "source": [
    "## basic numpy functions\n",
    "x=np.random.randint(1,10,(2,3))\n",
    "print(x)"
   ]
  },
  {
   "cell_type": "code",
   "execution_count": 8,
   "metadata": {},
   "outputs": [
    {
     "name": "stdout",
     "output_type": "stream",
     "text": [
      "38\n",
      "[22 16]\n",
      "[11 14 13]\n"
     ]
    }
   ],
   "source": [
    "print(np.sum(x)) # [19,10], 29, [14,11,4]\n",
    "print(np.sum(x,axis=1)) # adding row wise \n",
    "print(np.sum(x,axis=0)) # adding col wise"
   ]
  },
  {
   "cell_type": "code",
   "execution_count": 9,
   "metadata": {},
   "outputs": [
    {
     "name": "stdout",
     "output_type": "stream",
     "text": [
      "[[7 6 9]\n",
      " [4 8 4]]\n",
      "9\n",
      "[9 8]\n",
      "[7 8 9]\n"
     ]
    }
   ],
   "source": [
    "print(x)\n",
    "print(np.max(x)) # \n",
    "print(np.max(x,axis=1)) #\n",
    "print(np.max(x,axis=0)) #"
   ]
  },
  {
   "cell_type": "code",
   "execution_count": 10,
   "metadata": {},
   "outputs": [
    {
     "name": "stdout",
     "output_type": "stream",
     "text": [
      "[[7 6 9]\n",
      " [4 8 4]]\n",
      "9\n",
      "2\n",
      "3\n"
     ]
    }
   ],
   "source": [
    "print(x)\n",
    "print(np.max(x))\n",
    "print(np.argmax(x)) # \n",
    "print(np.argmin(x)) #"
   ]
  },
  {
   "cell_type": "code",
   "execution_count": 11,
   "metadata": {},
   "outputs": [
    {
     "name": "stdout",
     "output_type": "stream",
     "text": [
      "[10.  11.5 13.  14.5 16.  17.5 19. ]\n",
      "10\n",
      "11\n",
      "12\n",
      "13\n",
      "14\n",
      "15\n",
      "16\n",
      "17\n",
      "18\n",
      "19\n"
     ]
    }
   ],
   "source": [
    "x=np.arange(10,20,1.5) # int/float at inc/dec\n",
    "print(x)\n",
    "for i in range(10,20,1):\n",
    "  print(i)"
   ]
  },
  {
   "cell_type": "raw",
   "metadata": {},
   "source": [
    "# Color coding- 'r'-red, 'b'-blue, 'g'-green, 'y'-yellow == 'black'='k'\n",
    "marker- *,o-circle,d-diamond,s=-square,^,<,>"
   ]
  },
  {
   "cell_type": "code",
   "execution_count": 14,
   "metadata": {},
   "outputs": [
    {
     "data": {
      "image/png": "[encoded data removed]",
      "text/plain": [
       "<Figure size 360x360 with 1 Axes>"
      ]
     },
     "metadata": {
      "needs_background": "light"
     },
     "output_type": "display_data"
    }
   ],
   "source": [
    "# I want to plot y1=x, y2=x**2\n",
    "x=np.arange(-10,10,1)\n",
    "y1=x\n",
    "y2=x**2\n",
    "import matplotlib.pyplot as plt\n",
    "plt.figure(figsize=(5,5)) # set figure size\n",
    "plt.title('plotting',color='red') # title of figure\n",
    "plt.plot(x,y1,c='k',lw=1,marker='*',markersize=10,markerfacecolor='r',\n",
    "         markeredgecolor='b',label='y=x') # plot\n",
    "plt.plot(x,y2,c='b',lw='3',marker='d',label='y=x**2')\n",
    "plt.legend()\n",
    "plt.xlabel('X-->',c='b') # x-axis name\n",
    "plt.ylabel('Y-->',c='m') # y axis name\n",
    "plt.grid() # grid\n",
    "plt.axis('on') # on/off\n",
    "plt.show() # show the figure"
   ]
  },
  {
   "cell_type": "code",
   "execution_count": null,
   "metadata": {},
   "outputs": [],
   "source": []
  }
 ],
 "metadata": {
  "kernelspec": {
   "display_name": "Python 3",
   "language": "python",
   "name": "python3"
  },
  "language_info": {
   "codemirror_mode": {
    "name": "ipython",
    "version": 3
   },
   "file_extension": ".py",
   "mimetype": "text/x-python",
   "name": "python",
   "nbconvert_exporter": "python",
   "pygments_lexer": "ipython3",
   "version": "3.7.4"
  }
 },
 "nbformat": 4,
 "nbformat_minor": 2
}
